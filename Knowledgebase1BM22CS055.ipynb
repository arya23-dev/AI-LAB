{
  "nbformat": 4,
  "nbformat_minor": 0,
  "metadata": {
    "colab": {
      "provenance": [],
      "authorship_tag": "ABX9TyM3dveEAj+jRnyYfOhY7Ap4",
      "include_colab_link": true
    },
    "kernelspec": {
      "name": "python3",
      "display_name": "Python 3"
    },
    "language_info": {
      "name": "python"
    }
  },
  "cells": [
    {
      "cell_type": "markdown",
      "metadata": {
        "id": "view-in-github",
        "colab_type": "text"
      },
      "source": [
        "<a href=\"https://colab.research.google.com/github/arya23-dev/AI-LAB/blob/main/Knowledgebase1BM22CS055.ipynb\" target=\"_parent\"><img src=\"https://colab.research.google.com/assets/colab-badge.svg\" alt=\"Open In Colab\"/></a>"
      ]
    },
    {
      "cell_type": "code",
      "execution_count": 2,
      "metadata": {
        "colab": {
          "base_uri": "https://localhost:8080/"
        },
        "id": "kESWAdk4yThO",
        "outputId": "ff7e781d-caaf-4bd9-d68d-2151d1c31202"
      },
      "outputs": [
        {
          "output_type": "stream",
          "name": "stdout",
          "text": [
            "Enter the number of propositions: 3\n",
            "Enter the name of proposition 1: P\n",
            "Enter the name of proposition 2: Q\n",
            "Enter the name of proposition 3: R\n",
            "Enter the knowledge base as one logical expression, using 'and', 'or', 'not', 'implies' (use parentheses for grouping):\n",
            "Example: (Q implies P) and (P implies not Q) and (Q or R)\n",
            "KB: (Q implies P) and (P implies not Q) and (Q or R)\n",
            "Enter the query to check for entailment (use 'and', 'or', 'not', 'implies'): Q implies R\n",
            "The query Q implies R is entailed by the knowledge base.\n"
          ]
        }
      ],
      "source": [
        "from sympy.logic.boolalg import Or, And, Not, Implies\n",
        "from sympy.logic import simplify_logic\n",
        "from sympy import symbols\n",
        "\n",
        "# Function to create a Knowledge Base by taking user input\n",
        "def create_knowledge_base():\n",
        "    # User input for number of propositions\n",
        "    num_propositions = int(input(\"Enter the number of propositions: \"))\n",
        "\n",
        "    # Create symbols for the propositions\n",
        "    propositions = [symbols(input(f\"Enter the name of proposition {i+1}: \")) for i in range(num_propositions)]\n",
        "\n",
        "    kb = []\n",
        "\n",
        "    # Allow the user to input knowledge base rules (as logical expressions)\n",
        "    print(\"Enter the knowledge base as one logical expression, using 'and', 'or', 'not', 'implies' (use parentheses for grouping):\")\n",
        "    print(\"Example: (Q implies P) and (P implies not Q) and (Q or R)\")\n",
        "    rule = input(\"KB: \")\n",
        "\n",
        "    try:\n",
        "        # Parse the user input into sympy logical expressions\n",
        "        rule_expr = parse_logical_expression(rule, propositions)\n",
        "        kb.append(rule_expr)\n",
        "    except Exception as e:\n",
        "        print(f\"Error parsing KB: {e}\")\n",
        "\n",
        "    return kb, propositions\n",
        "\n",
        "# Function to parse a logical expression entered by the user\n",
        "def parse_logical_expression(expr, propositions):\n",
        "    # Replace user input keywords with sympy equivalents\n",
        "    expr = expr.lower()\n",
        "    expr = expr.replace(\"and\", \"&\").replace(\"or\", \"|\").replace(\"not\", \"~\").replace(\"implies\", \">>\")\n",
        "\n",
        "    # Create a dictionary of symbols\n",
        "    symbol_dict = {prop.name: prop for prop in propositions}\n",
        "\n",
        "    # Replace the proposition names with sympy symbols in the expression\n",
        "    for prop in symbol_dict:\n",
        "        expr = expr.replace(prop, f\"symbols('{prop}')\")\n",
        "\n",
        "    # Use sympy.logic functions to parse and return the logical expression\n",
        "    from sympy import sympify\n",
        "    try:\n",
        "        return sympify(expr)\n",
        "    except Exception as e:\n",
        "        raise ValueError(f\"Failed to parse expression: {expr}. Error: {e}\")\n",
        "\n",
        "# Function to check if a query is entailed by the knowledge base\n",
        "def entails(kb, query, symbols_list):\n",
        "    # Simplify the knowledge base by combining all formulas into a single expression\n",
        "    combined_kb = And(*kb)\n",
        "\n",
        "    # Check if the query is a logical consequence of the knowledge base\n",
        "    # If combined KB ∧ ¬query is unsatisfiable, then KB entails query\n",
        "    result = simplify_logic(And(combined_kb, Not(query)))\n",
        "\n",
        "    # If the result is False (unsatisfiable), the query is entailed\n",
        "    if result == False:\n",
        "        return True\n",
        "    else:\n",
        "        return False\n",
        "\n",
        "# Example usage:\n",
        "\n",
        "# Create knowledge base\n",
        "kb, symbols_list = create_knowledge_base()\n",
        "\n",
        "# Allow the user to input a query\n",
        "query_str = input(\"Enter the query to check for entailment (use 'and', 'or', 'not', 'implies'): \")\n",
        "\n",
        "# Parse the query entered by the user\n",
        "try:\n",
        "    query = parse_logical_expression(query_str, symbols_list)\n",
        "\n",
        "    # Check if the query is entailed by the KB\n",
        "    if entails(kb, query, symbols_list):\n",
        "        print(f\"The query {query_str} is entailed by the knowledge base.\")\n",
        "    else:\n",
        "        print(f\"The query {query_str} is not entailed by the knowledge base.\")\n",
        "except Exception as e:\n",
        "    print(f\"Error: {e}\")\n"
      ]
    }
  ]
}