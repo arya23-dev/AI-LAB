{
  "nbformat": 4,
  "nbformat_minor": 0,
  "metadata": {
    "colab": {
      "provenance": [],
      "authorship_tag": "ABX9TyNaW2Ix2lfAfLURpqYf5fto",
      "include_colab_link": true
    },
    "kernelspec": {
      "name": "python3",
      "display_name": "Python 3"
    },
    "language_info": {
      "name": "python"
    }
  },
  "cells": [
    {
      "cell_type": "markdown",
      "metadata": {
        "id": "view-in-github",
        "colab_type": "text"
      },
      "source": [
        "<a href=\"https://colab.research.google.com/github/arya23-dev/AI-LAB/blob/main/Copy_of_Resolutionworking_arya_1BM22CS055.ipynb\" target=\"_parent\"><img src=\"https://colab.research.google.com/assets/colab-badge.svg\" alt=\"Open In Colab\"/></a>"
      ]
    },
    {
      "cell_type": "code",
      "execution_count": null,
      "metadata": {
        "colab": {
          "base_uri": "https://localhost:8080/"
        },
        "id": "5Ddpl7LtX0Nm",
        "outputId": "84170e09-bbc0-420a-c8e7-d747f0388151"
      },
      "outputs": [
        {
          "output_type": "stream",
          "name": "stdout",
          "text": [
            "Proof by Resolution - Enter premises in CNF and query:\n",
            "Enter the number of premises:\n",
            "9\n",
            "Enter each premise as a list of literals (e.g., ['A', '~B']):\n",
            "['~food(X)', 'likes(John, X)']\n",
            "['food(Apple)']\n",
            "['food(Vegetables)']\n",
            "['~eats(Y, X)', 'killed(X)', 'food(X)']\n",
            "['eats(Anil, Peanuts)']\n",
            "['~killed(Peanuts)']\n",
            "['~eats(Anil, X)', 'eats(Harry, X)']\n",
            "['~alive(X)', '~killed(X)']\n",
            "['killed(X)', 'alive(X)']\n",
            "Enter the query (e.g., 'A'):\n",
            "likes(John, Peanuts)\n",
            "The query 'likes(John, Peanuts)' can be resolved and proven True.\n"
          ]
        }
      ],
      "source": [
        "def unify(clause1, clause2):\n",
        "    \"\"\"\n",
        "    Resolves two clauses and performs unification of variables.\n",
        "    Returns a new clause after applying resolution or None if unification fails.\n",
        "    \"\"\"\n",
        "    for literal1 in clause1:\n",
        "        for literal2 in clause2:\n",
        "            # Check if literal1 and literal2 are complementary\n",
        "            if literal1 == \"~\" + literal2 or \"~\" + literal1 == literal2:\n",
        "                # Remove the complementary literals and combine remaining literals\n",
        "                new_clause = set(clause1) | set(clause2)\n",
        "                new_clause.discard(literal1)\n",
        "                new_clause.discard(literal2)\n",
        "                return list(new_clause)\n",
        "    return None\n",
        "\n",
        "\n",
        "def resolution(premises, query):\n",
        "    \"\"\"\n",
        "    Performs resolution algorithm to check if the query can be resolved.\n",
        "    \"\"\"\n",
        "    # Negate the query and add to premises\n",
        "    negated_query = [\"~\" + query]\n",
        "    clauses = premises + [negated_query]\n",
        "    new = []\n",
        "\n",
        "    while True:\n",
        "        # Pairwise resolution\n",
        "        for i in range(len(clauses)):\n",
        "            for j in range(i + 1, len(clauses)):\n",
        "                resolvent = unify(clauses[i], clauses[j])\n",
        "                if resolvent is not None:\n",
        "                    if resolvent == []:  # Empty clause implies contradiction\n",
        "                        return True\n",
        "                    new.append(resolvent)\n",
        "\n",
        "        # Remove duplicates and already resolved clauses\n",
        "        new = [clause for clause in new if clause not in clauses]\n",
        "\n",
        "        # If no new clauses, resolution fails\n",
        "        if not new:\n",
        "            return False\n",
        "\n",
        "        # Add new clauses to the set\n",
        "        clauses += new\n",
        "\n",
        "\n",
        "def input_clauses():\n",
        "    \"\"\"\n",
        "    Takes user input for clauses in CNF form.\n",
        "    \"\"\"\n",
        "    premises = []\n",
        "    print(\"Enter the number of premises:\")\n",
        "    n = int(input())\n",
        "    print(\"Enter each premise as a list of literals (e.g., ['A', '~B']):\")\n",
        "    for _ in range(n):\n",
        "        premise = input()\n",
        "        premises.append(eval(premise))\n",
        "    return premises\n",
        "\n",
        "\n",
        "if __name__ == \"__main__\":\n",
        "    print(\"Proof by Resolution - Enter premises in CNF and query:\")\n",
        "    premises = input_clauses()\n",
        "    print(\"Enter the query (e.g., 'A'):\")\n",
        "    query = input()\n",
        "\n",
        "    if resolution(premises, query):\n",
        "        print(f\"The query '{query}' can be resolved and proven True.\")\n",
        "    else:\n",
        "        print(f\"The query '{query}' cannot be resolved and proven.\")\n",
        "\n"
      ]
    },
    {
      "cell_type": "code",
      "source": [],
      "metadata": {
        "id": "dMjR-8FhZPIA"
      },
      "execution_count": null,
      "outputs": []
    }
  ]
}