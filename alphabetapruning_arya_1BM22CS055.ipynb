{
  "nbformat": 4,
  "nbformat_minor": 0,
  "metadata": {
    "colab": {
      "provenance": [],
      "authorship_tag": "ABX9TyODYFRyvfpurmcqRLuE4Dau",
      "include_colab_link": true
    },
    "kernelspec": {
      "name": "python3",
      "display_name": "Python 3"
    },
    "language_info": {
      "name": "python"
    }
  },
  "cells": [
    {
      "cell_type": "markdown",
      "metadata": {
        "id": "view-in-github",
        "colab_type": "text"
      },
      "source": [
        "<a href=\"https://colab.research.google.com/github/arya23-dev/AI-LAB/blob/main/alphabetapruning_arya_1BM22CS055.ipynb\" target=\"_parent\"><img src=\"https://colab.research.google.com/assets/colab-badge.svg\" alt=\"Open In Colab\"/></a>"
      ]
    },
    {
      "cell_type": "code",
      "execution_count": 2,
      "metadata": {
        "colab": {
          "base_uri": "https://localhost:8080/"
        },
        "id": "dHp6WGm5roc4",
        "outputId": "f38a2c3f-5c4c-4913-ddd1-12ab84917839"
      },
      "outputs": [
        {
          "output_type": "stream",
          "name": "stdout",
          "text": [
            "Building a binary tree for Alpha-Beta Pruning.\n",
            "Enter the depth of the tree (e.g., 2 or 3): 3\n",
            "Enter values for 8 leaf nodes:\n",
            "Leaf 1 value: 10\n",
            "Leaf 2 value: 9\n",
            "Leaf 3 value: 14\n",
            "Leaf 4 value: 18\n",
            "Leaf 5 value: 5\n",
            "Leaf 6 value: 4\n",
            "Leaf 7 value: 50\n",
            "Leaf 8 value: 3\n",
            "Optimal Value: 10\n"
          ]
        }
      ],
      "source": [
        "class Node:\n",
        "    \"\"\"\n",
        "    Represents a node in the tree.\n",
        "    \"\"\"\n",
        "    def __init__(self, value=None, children=None):\n",
        "        self.value = value  # Utility value for leaf nodes; None for non-leaf nodes\n",
        "        self.children = children if children else []  # Child nodes\n",
        "\n",
        "\n",
        "def max_value(node, alpha, beta):\n",
        "    \"\"\"\n",
        "    Implements the Max-Value function for Alpha-Beta pruning.\n",
        "    \"\"\"\n",
        "    if is_terminal(node):  # If the node is a leaf, return its value\n",
        "        return node.value\n",
        "\n",
        "    v = float('-inf')  # Initialize v to negative infinity\n",
        "    for child in node.children:\n",
        "        v = max(v, min_value(child, alpha, beta))\n",
        "        if v >= beta:  # Prune\n",
        "            return v\n",
        "        alpha = max(alpha, v)  # Update alpha\n",
        "    return v\n",
        "\n",
        "\n",
        "def min_value(node, alpha, beta):\n",
        "    \"\"\"\n",
        "    Implements the Min-Value function for Alpha-Beta pruning.\n",
        "    \"\"\"\n",
        "    if is_terminal(node):  # If the node is a leaf, return its value\n",
        "        return node.value\n",
        "\n",
        "    v = float('inf')  # Initialize v to positive infinity\n",
        "    for child in node.children:\n",
        "        v = min(v, max_value(child, alpha, beta))\n",
        "        if v <= alpha:  # Prune\n",
        "            return v\n",
        "        beta = min(beta, v)  # Update beta\n",
        "    return v\n",
        "\n",
        "\n",
        "def is_terminal(node):\n",
        "    \"\"\"\n",
        "    Checks if a node is a terminal node (leaf node).\n",
        "    \"\"\"\n",
        "    return len(node.children) == 0\n",
        "\n",
        "\n",
        "def build_tree():\n",
        "    \"\"\"\n",
        "    Builds a tree based on user input for leaf nodes.\n",
        "    \"\"\"\n",
        "    print(\"Building a binary tree for Alpha-Beta Pruning.\")\n",
        "    depth = int(input(\"Enter the depth of the tree (e.g., 2 or 3): \"))\n",
        "\n",
        "    # Number of leaf nodes = 2^depth\n",
        "    num_leaf_nodes = 2 ** depth\n",
        "    print(f\"Enter values for {num_leaf_nodes} leaf nodes:\")\n",
        "\n",
        "    # Collect leaf node values\n",
        "    leaf_values = []\n",
        "    for i in range(num_leaf_nodes):\n",
        "        value = int(input(f\"Leaf {i+1} value: \"))\n",
        "        leaf_values.append(Node(value=value))\n",
        "\n",
        "    # Build the tree from leaf nodes upward\n",
        "    current_level = leaf_values\n",
        "    for _ in range(depth):\n",
        "        next_level = []\n",
        "        for i in range(0, len(current_level), 2):\n",
        "            # Combine every two nodes under a new parent\n",
        "            parent = Node(children=[current_level[i], current_level[i+1]])\n",
        "            next_level.append(parent)\n",
        "        current_level = next_level\n",
        "\n",
        "    # The root is the single remaining node\n",
        "    return current_level[0]\n",
        "\n",
        "\n",
        "# Main Program\n",
        "if __name__ == \"__main__\":\n",
        "    root = build_tree()\n",
        "    alpha = float('-inf')\n",
        "    beta = float('inf')\n",
        "    result = max_value(root, alpha, beta)\n",
        "    print(\"Optimal Value:\", result)"
      ]
    }
  ]
}