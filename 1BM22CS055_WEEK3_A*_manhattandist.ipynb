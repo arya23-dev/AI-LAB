{
  "nbformat": 4,
  "nbformat_minor": 0,
  "metadata": {
    "colab": {
      "provenance": [],
      "authorship_tag": "ABX9TyMqnTm0bpriZuUAj0i/p+mc",
      "include_colab_link": true
    },
    "kernelspec": {
      "name": "python3",
      "display_name": "Python 3"
    },
    "language_info": {
      "name": "python"
    }
  },
  "cells": [
    {
      "cell_type": "markdown",
      "metadata": {
        "id": "view-in-github",
        "colab_type": "text"
      },
      "source": [
        "<a href=\"https://colab.research.google.com/github/arya23-dev/AI-LAB/blob/main/1BM22CS055_WEEK3_A*_manhattandist.ipynb\" target=\"_parent\"><img src=\"https://colab.research.google.com/assets/colab-badge.svg\" alt=\"Open In Colab\"/></a>"
      ]
    },
    {
      "cell_type": "code",
      "execution_count": 1,
      "metadata": {
        "colab": {
          "base_uri": "https://localhost:8080/"
        },
        "id": "9Qf2qYrEb6cC",
        "outputId": "4e39e382-4b14-4c3e-a005-91b6d8a3d533"
      },
      "outputs": [
        {
          "output_type": "stream",
          "name": "stdout",
          "text": [
            "Puzzle solved! Here's the sequence of steps:\n",
            "Solution path:\n",
            "[1, 2, 3]\n",
            "[4, 5, 6]\n",
            "[7, 0, 8]\n",
            "\n",
            "[1, 2, 3]\n",
            "[4, 0, 6]\n",
            "[7, 5, 8]\n",
            "\n",
            "[1, 2, 3]\n",
            "[0, 4, 6]\n",
            "[7, 5, 8]\n",
            "\n"
          ]
        }
      ],
      "source": [
        "import heapq\n",
        "\n",
        "class PuzzleState:\n",
        "    def __init__(self, board, parent, move, depth, cost):\n",
        "        self.board = board\n",
        "        self.parent = parent  # Reference to the parent state\n",
        "        self.move = move  # Move made to reach this state\n",
        "        self.depth = depth  # Depth in the search tree\n",
        "        self.cost = cost  # Cost for A* (depth + heuristic)\n",
        "\n",
        "    def __lt__(self, other):\n",
        "        return self.cost < other.cost\n",
        "\n",
        "def manhattan_distance(board, goal):\n",
        "    \"\"\" Calculate the Manhattan distance heuristic for A* search \"\"\"\n",
        "    distance = 0\n",
        "    for i in range(1, 9):  # Skip the empty space represented by 0\n",
        "        x1, y1 = divmod(board.index(i), 3)\n",
        "        x2, y2 = divmod(goal.index(i), 3)\n",
        "        distance += abs(x1 - x2) + abs(y1 - y2)\n",
        "    return distance\n",
        "\n",
        "def a_star_search(initial_state, goal_state):\n",
        "    \"\"\" Perform A* search to solve the 8-puzzle \"\"\"\n",
        "    explored = set()  # Set to keep track of explored states\n",
        "    priority_queue = []  # Priority queue to explore states\n",
        "    initial = PuzzleState(initial_state, None, None, 0, manhattan_distance(initial_state, goal_state))\n",
        "    heapq.heappush(priority_queue, initial)\n",
        "\n",
        "    while priority_queue:\n",
        "        current_state = heapq.heappop(priority_queue)\n",
        "        explored.add(tuple(current_state.board))\n",
        "\n",
        "        # If the goal state is reached, return the goal state for backtracking\n",
        "        if current_state.board == goal_state:\n",
        "            return current_state\n",
        "\n",
        "        # Explore possible moves from the current state\n",
        "        for move in possible_moves(current_state.board):\n",
        "            new_board = apply_move(current_state.board, move)\n",
        "            if tuple(new_board) not in explored:\n",
        "                new_state = PuzzleState(new_board, current_state, move, current_state.depth + 1, current_state.depth + 1 + manhattan_distance(new_board, goal_state))\n",
        "                heapq.heappush(priority_queue, new_state)\n",
        "\n",
        "    return None  # Return None if no solution is found\n",
        "\n",
        "def possible_moves(board):\n",
        "    \"\"\" Get the possible moves (left, right, up, down) from the current board configuration \"\"\"\n",
        "    moves = []\n",
        "    empty_index = board.index(0)\n",
        "    if empty_index % 3 > 0:  # Move left\n",
        "        moves.append(-1)\n",
        "    if empty_index % 3 < 2:  # Move right\n",
        "        moves.append(1)\n",
        "    if empty_index > 2:  # Move up\n",
        "        moves.append(-3)\n",
        "    if empty_index < 6:  # Move down\n",
        "        moves.append(3)\n",
        "    return moves\n",
        "\n",
        "def apply_move(board, move):\n",
        "    \"\"\" Apply a move (swap the blank space with an adjacent tile) \"\"\"\n",
        "    new_board = board[:]\n",
        "    empty_index = new_board.index(0)\n",
        "    new_index = empty_index + move\n",
        "    new_board[empty_index], new_board[new_index] = new_board[new_index], new_board[empty_index]\n",
        "    return new_board\n",
        "\n",
        "def print_solution(state):\n",
        "    \"\"\" Print the sequence of moves leading to the goal state \"\"\"\n",
        "    path = []\n",
        "    while state:\n",
        "        path.append(state.board)\n",
        "        state = state.parent\n",
        "\n",
        "    # Reverse the path to print from initial state to goal\n",
        "    path.reverse()\n",
        "    print(\"Solution path:\")\n",
        "    for step in path:\n",
        "        for i in range(0, len(step), 3):\n",
        "            print(step[i:i+3])\n",
        "        print()  # Newline between steps\n",
        "\n",
        "# Example usage\n",
        "initial = [1, 2, 3, 4, 5, 6, 7, 0, 8]\n",
        "goal = [1, 2, 3, 0, 4, 6, 7, 5, 8]\n",
        "result = a_star_search(initial, goal)\n",
        "\n",
        "if result:\n",
        "    print(\"Puzzle solved! Here's the sequence of steps:\")\n",
        "    print_solution(result)\n",
        "else:\n",
        "    print(\"No solution found.\")"
      ]
    },
    {
      "cell_type": "code",
      "source": [],
      "metadata": {
        "id": "_3XtkrCBb7X_"
      },
      "execution_count": null,
      "outputs": []
    }
  ]
}