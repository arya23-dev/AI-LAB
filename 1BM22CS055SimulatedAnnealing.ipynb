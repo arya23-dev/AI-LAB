{
  "nbformat": 4,
  "nbformat_minor": 0,
  "metadata": {
    "colab": {
      "provenance": [],
      "authorship_tag": "ABX9TyPP5YEeQSv8V9tVVOGEXbE/",
      "include_colab_link": true
    },
    "kernelspec": {
      "name": "python3",
      "display_name": "Python 3"
    },
    "language_info": {
      "name": "python"
    }
  },
  "cells": [
    {
      "cell_type": "markdown",
      "metadata": {
        "id": "view-in-github",
        "colab_type": "text"
      },
      "source": [
        "<a href=\"https://colab.research.google.com/github/arya23-dev/AI-LAB/blob/main/1BM22CS055SimulatedAnnealing.ipynb\" target=\"_parent\"><img src=\"https://colab.research.google.com/assets/colab-badge.svg\" alt=\"Open In Colab\"/></a>"
      ]
    },
    {
      "cell_type": "code",
      "execution_count": 2,
      "metadata": {
        "colab": {
          "base_uri": "https://localhost:8080/"
        },
        "id": "RCJGyFfYn01K",
        "outputId": "0e550d38-b061-445d-f57f-4198ea6be7d1"
      },
      "outputs": [
        {
          "output_type": "stream",
          "name": "stdout",
          "text": [
            "Enter the size of the board (N): 8\n",
            "Enter the initial state as a list of 8 integers (e.g., [0, 4, 7, 5, 2, 6, 1, 3]): [0,4,7,5,2,6,1,3]\n",
            "Solution found!\n",
            "Board configuration: [0, 4, 7, 5, 2, 6, 1, 3]\n"
          ]
        }
      ],
      "source": [
        "import random\n",
        "import math\n",
        "\n",
        "# Objective (Energy) Function: Number of conflicts in the board\n",
        "def calculate_conflicts(board):\n",
        "    conflicts = 0\n",
        "    for i in range(len(board)):\n",
        "        for j in range(i + 1, len(board)):\n",
        "            if board[i] == board[j]: # Same row\n",
        "                conflicts += 1\n",
        "            if abs(board[i] - board[j]) == abs(i - j): # Same diagonal\n",
        "                conflicts += 1\n",
        "    return conflicts\n",
        "\n",
        "# Function to make a random move (neighbor) in the state space\n",
        "def make_random_move(board):\n",
        "    new_board = board[:]\n",
        "    col = random.randint(0, len(board) - 1)\n",
        "    new_row = random.randint(0, len(board) - 1)\n",
        "    new_board[col] = new_row\n",
        "    return new_board\n",
        "\n",
        "# Simulated Annealing Algorithm\n",
        "def simulated_annealing(N, initial_board):\n",
        "    current_board = initial_board[:]\n",
        "    current_conflicts = calculate_conflicts(current_board)\n",
        "\n",
        "    # Define cooling parameters\n",
        "    T = 1000 # Initial temperature\n",
        "    T_min = 0.0001 # Minimum temperature\n",
        "    alpha = 0.99 # Cooling rate\n",
        "\n",
        "    iteration = 0 # Track number of iterations\n",
        "\n",
        "    # Main loop of the algorithm\n",
        "    while T > T_min and current_conflicts > 0:\n",
        "        # Every 100 iterations, print the current state\n",
        "        iteration += 1\n",
        "        if iteration % 100 == 0:\n",
        "            print(f\"Iteration {iteration}: Current Conflicts = {current_conflicts}\")\n",
        "\n",
        "        # Generate a new state by making a random move\n",
        "        new_board = make_random_move(current_board)\n",
        "        new_conflicts = calculate_conflicts(new_board)\n",
        "\n",
        "        # Calculate the energy difference\n",
        "        delta_E = new_conflicts - current_conflicts\n",
        "\n",
        "        # Decide to move to the new state\n",
        "        if delta_E < 0 or random.uniform(0, 1) < math.exp(-delta_E / T):\n",
        "            current_board, current_conflicts = new_board, new_conflicts\n",
        "\n",
        "        # Cool down\n",
        "        T *= alpha\n",
        "\n",
        "        # If the board is conflict-free, break early\n",
        "        if current_conflicts == 0:\n",
        "            print(f\"Solution found in {iteration} iterations!\")\n",
        "            break\n",
        "\n",
        "    return current_board, current_conflicts\n",
        "\n",
        "# Get input from the user for the size of the board\n",
        "N = int(input(\"Enter the size of the board (N): \"))\n",
        "\n",
        "# Get the initial state of the board from the user\n",
        "initial_state = input(f\"Enter the initial state as a list of {N} integers (e.g., [0, 4, 7, 5, 2, 6, 1, 3]): \")\n",
        "\n",
        "# Convert the input string to a list of integers\n",
        "initial_board = [int(x) for x in initial_state.strip('[]').split(',')]\n",
        "\n",
        "# Check if the length of the input board is correct\n",
        "if len(initial_board) != N:\n",
        "    print(f\"Error: The initial state must have exactly {N} integers.\")\n",
        "else:\n",
        "    # Run the Simulated Annealing algorithm\n",
        "    solution_board, solution_conflicts = simulated_annealing(N, initial_board)\n",
        "\n",
        "    # Output the solution\n",
        "    if solution_conflicts == 0:\n",
        "        print(\"Solution found!\")\n",
        "        print(\"Board configuration:\", solution_board)\n",
        "    else:\n",
        "        print(\"Solution not found. Final conflicts:\", solution_conflicts)\n"
      ]
    }
  ]
}