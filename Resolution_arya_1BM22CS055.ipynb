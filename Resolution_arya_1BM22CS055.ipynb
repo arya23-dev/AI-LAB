{
  "nbformat": 4,
  "nbformat_minor": 0,
  "metadata": {
    "colab": {
      "provenance": [],
      "authorship_tag": "ABX9TyN0da+OpO9aUeaoMIQ0flrs",
      "include_colab_link": true
    },
    "kernelspec": {
      "name": "python3",
      "display_name": "Python 3"
    },
    "language_info": {
      "name": "python"
    }
  },
  "cells": [
    {
      "cell_type": "markdown",
      "metadata": {
        "id": "view-in-github",
        "colab_type": "text"
      },
      "source": [
        "<a href=\"https://colab.research.google.com/github/arya23-dev/AI-LAB/blob/main/Resolution_arya_1BM22CS055.ipynb\" target=\"_parent\"><img src=\"https://colab.research.google.com/assets/colab-badge.svg\" alt=\"Open In Colab\"/></a>"
      ]
    },
    {
      "cell_type": "code",
      "execution_count": 4,
      "metadata": {
        "colab": {
          "base_uri": "https://localhost:8080/"
        },
        "id": "5Ddpl7LtX0Nm",
        "outputId": "62edab60-0590-4a75-aae4-33d7b723f3d9"
      },
      "outputs": [
        {
          "output_type": "stream",
          "name": "stdout",
          "text": [
            "The query 'C' is not entailed by the clauses.\n"
          ]
        }
      ],
      "source": [
        "class Clause:\n",
        "    def __init__(self, literals):\n",
        "        self.literals = set(literals)\n",
        "\n",
        "    def __str__(self):\n",
        "        return \" ∨ \".join(sorted(self.literals))\n",
        "\n",
        "    def __eq__(self, other):\n",
        "        return self.literals == other.literals\n",
        "\n",
        "    def __hash__(self):\n",
        "        return hash(frozenset(self.literals))\n",
        "\n",
        "def negate(literal):\n",
        "    if literal.startswith('¬'):\n",
        "        return literal[1:]  # Remove negation\n",
        "    else:\n",
        "        return '¬' + literal  # Add negation\n",
        "\n",
        "def resolve(clause1, clause2):\n",
        "    resolvents = []\n",
        "    for literal in clause1.literals:\n",
        "        if negate(literal) in clause2.literals:\n",
        "            new_clause = (clause1.literals | clause2.literals) - {literal, negate(literal)}\n",
        "            resolvents.append(Clause(new_clause))\n",
        "    return resolvents\n",
        "\n",
        "def resolution(clauses, query):\n",
        "    # Negate the query\n",
        "    negated_query = negate(query)\n",
        "    clauses.append(Clause([negated_query]))\n",
        "\n",
        "    new_clauses = set(clauses)\n",
        "    while True:\n",
        "        pairs = [(c1, c2) for i, c1 in enumerate(new_clauses) for c2 in list(new_clauses)[i + 1:]]\n",
        "        new_resolvents = set()\n",
        "        for c1, c2 in pairs:\n",
        "            resolvents = resolve(c1, c2)\n",
        "            new_resolvents.update(resolvents)\n",
        "\n",
        "        # If we derive an empty clause, the original set entails the query\n",
        "        if Clause(set()) in new_resolvents:\n",
        "            return True\n",
        "\n",
        "        # Add new resolvents to the set of clauses\n",
        "        new_clauses.update(new_resolvents)\n",
        "\n",
        "        # If no new clauses are generated, we stop\n",
        "        if new_resolvents.issubset(new_clauses):\n",
        "            break\n",
        "\n",
        "    return False\n",
        "\n",
        "# Example usage\n",
        "if __name__ == \"__main__\":\n",
        "    # Define some clauses\n",
        "    clauses = [\n",
        "        Clause(['A', 'B']),\n",
        "        Clause(['¬A', 'C']),\n",
        "        Clause(['¬B', '¬C']),\n",
        "    ]\n",
        "\n",
        "    # Query to resolve\n",
        "    query = 'C'\n",
        "\n",
        "    # Perform resolution\n",
        "    result = resolution(clauses, query)\n",
        "    print(f\"The query '{query}' is {'entailed' if result else 'not entailed'} by the clauses.\")"
      ]
    },
    {
      "cell_type": "code",
      "source": [],
      "metadata": {
        "id": "dMjR-8FhZPIA"
      },
      "execution_count": null,
      "outputs": []
    }
  ]
}